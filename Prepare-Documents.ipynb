{
 "cells": [
  {
   "cell_type": "markdown",
   "id": "c327eb28-c116-4c07-b095-5deb820fa891",
   "metadata": {},
   "source": [
    "# SJ Chatbot: Prepare Documents"
   ]
  },
  {
   "cell_type": "markdown",
   "id": "27c04d97-7f5b-4ffc-9679-a9bdf6253756",
   "metadata": {},
   "source": [
    "## Set up environment "
   ]
  },
  {
   "cell_type": "raw",
   "id": "21427c0f-f649-4271-a40d-ce57e42f4aa5",
   "metadata": {},
   "source": [
    "!pip install pandas\n",
    "!pip install numpy\n",
    "!pip install matplotlib\n",
    "!pip install python-docx\n",
    "!pip install openai==1.3.7\n",
    "!pip install os"
   ]
  },
  {
   "cell_type": "markdown",
   "id": "85af31a6-3dba-4843-a22b-316a8202db3a",
   "metadata": {},
   "source": [
    "## Load-in operations manual"
   ]
  },
  {
   "cell_type": "code",
   "execution_count": 1,
   "id": "abf9ee41-68b3-4295-a54c-b91e5d168727",
   "metadata": {},
   "outputs": [
    {
     "name": "stdout",
     "output_type": "stream",
     "text": [
      "\n",
      "About us\n",
      "\n",
      "Saint James Backpackers is a family owned hostel, only a 5-minute walk from the Earls Court Tube/Metro station (District Line and Piccadilly Line). \n",
      "\n",
      "What we can offer to our guest? \n",
      "Central London location (Zone 1)\n",
      "A hostel with new beds, mattresses, furniture, bathrooms etc.\n",
      "Free 300Mb WiFi\n",
      "Massive patio garden\n",
      "Large lounge with 75'' HD TV (with Netflix and Sky TV)\n",
      "Free use of PS5, board games and guitar\n",
      "Free London map \n",
      "Irons and hairdryers for loan \n",
      "Two dining zones\n",
      "A new modern communal kitchen\n",
      "Free Breakfast between 8am till 9.45am. Self-service (4 types of cereals, toast bread, jam, peanut butter, coffee, tea, milk and margarine, pancakes, juice , croissants). \n",
      "Free 24 hour tea & coffee, as well as seasonings and often free food for cooking.\n",
      "A building combining original Victorian architecture with modern amenities\n",
      "For the ladies, an exclusive ladies-only private dorm and showers in the basement, as well as a make-up area on the ground floor.\n"
     ]
    }
   ],
   "source": [
    "from docx import Document\n",
    "\n",
    "# Replace 'your_document.docx' with your actual Word document file name\n",
    "doc = Document(\"operations_manual.docx\")\n",
    "\n",
    "# Print the text in the document\n",
    "for para in range(20):\n",
    "    print(doc.paragraphs[para].text)"
   ]
  },
  {
   "cell_type": "markdown",
   "id": "2e61ea75-26bc-464a-9777-88df8155b7d9",
   "metadata": {},
   "source": [
    "## Remove spaces"
   ]
  },
  {
   "cell_type": "code",
   "execution_count": 2,
   "id": "e0aea835-2d64-4125-ae14-580f71c2961f",
   "metadata": {},
   "outputs": [
    {
     "name": "stdout",
     "output_type": "stream",
     "text": [
      "About us\n",
      "Saint James Backpackers is a family owned hostel, only a 5-minute walk from the Earls Court Tube/Metro station (District Line and Piccadilly Line). \n",
      "What we can offer to our guest? \n",
      "Central London location (Zone 1)\n",
      "A hostel with new beds, mattresses, furniture, bathrooms etc.\n",
      "Free 300Mb WiFi\n",
      "Massive patio garden\n",
      "Large lounge with 75'' HD TV (with Netflix and Sky TV)\n",
      "Free use of PS5, board games and guitar\n",
      "Free London map \n",
      "Irons and hairdryers for loan \n",
      "Two dining zones\n",
      "A new modern communal kitchen\n",
      "Free Breakfast between 8am till 9.45am. Self-service (4 types of cereals, toast bread, jam, peanut butter, coffee, tea, milk and margarine, pancakes, juice , croissants). \n",
      "Free 24 hour tea & coffee, as well as seasonings and often free food for cooking.\n",
      "A building combining original Victorian architecture with modern amenities\n",
      "For the ladies, an exclusive ladies-only private dorm and showers in the basement, as well as a make-up area on the ground floor.\n",
      "Multicultural friendly staff \n",
      "Very safe neighborhood. Short walk to Holland Park, Kensington Gardens, Hyde Park and Kensington High Street. Many convenient bus routes. Sainsbury's local and launderette both 30 seconds walk away. Tesco superstore 3 minute walk.\n",
      "\n",
      "Rooms\n"
     ]
    }
   ],
   "source": [
    "no_spaces = []\n",
    "for i in range(len(doc.paragraphs)):\n",
    "    para = doc.paragraphs[i].text\n",
    "    if (para != '') & (para != ' '):\n",
    "        no_spaces.append(doc.paragraphs[i].text)\n",
    "\n",
    "# prints the text in the document\n",
    "for para in range(20):\n",
    "    print(no_spaces[para])"
   ]
  },
  {
   "cell_type": "markdown",
   "id": "241a838f-3ea7-4bc4-b441-7c5348eff68b",
   "metadata": {},
   "source": [
    "## Check paragraph word lengths"
   ]
  },
  {
   "cell_type": "code",
   "execution_count": 3,
   "id": "700f007e-1921-4365-b732-489cefd7041f",
   "metadata": {},
   "outputs": [
    {
     "data": {
      "image/png": "[encoded data removed]",
      "text/plain": [
       "<Figure size 640x480 with 1 Axes>"
      ]
     },
     "metadata": {},
     "output_type": "display_data"
    }
   ],
   "source": [
    "import matplotlib.pyplot as plt\n",
    "import pandas as pd\n",
    "\n",
    "word_lengths = []\n",
    "for i in range(len(no_spaces)):\n",
    "    word_lengths.append( len([x for x in no_spaces[i].split()]) )\n",
    "\n",
    "plt.hist(word_lengths);\n",
    "plt.title('Paragraphs by word length');\n",
    "plt.xlabel('Words');\n",
    "plt.ylabel('No. of Paragraphs');\n",
    "plt.show();"
   ]
  },
  {
   "cell_type": "markdown",
   "id": "b589eeac-c6b5-473f-98b9-b452b60c37e5",
   "metadata": {},
   "source": [
    "## Guess splits by word length"
   ]
  },
  {
   "cell_type": "code",
   "execution_count": 4,
   "id": "259cc297-485d-4653-a7bf-55d353051049",
   "metadata": {},
   "outputs": [
    {
     "name": "stdout",
     "output_type": "stream",
     "text": [
      "There are 144 splits\n"
     ]
    }
   ],
   "source": [
    "splits = []\n",
    "for i in range(len(word_lengths)):\n",
    "    try:\n",
    "        if (word_lengths[i] < 6) & (word_lengths[i+1] >9):\n",
    "            splits.append(i)\n",
    "    except:\n",
    "        pass\n",
    "\n",
    "print('There are ' + str(len(splits)) + ' splits')"
   ]
  },
  {
   "cell_type": "markdown",
   "id": "80391622-ae67-44e8-90a5-828ccae2c917",
   "metadata": {},
   "source": [
    "## Create length breaks"
   ]
  },
  {
   "cell_type": "code",
   "execution_count": 5,
   "id": "0521b59f-2ddf-4c95-87cc-1c1a3e5c8553",
   "metadata": {},
   "outputs": [
    {
     "name": "stdout",
     "output_type": "stream",
     "text": [
      "There are 134 length breaks\n"
     ]
    }
   ],
   "source": [
    "length_breaks = []\n",
    "\n",
    "current_length = 0\n",
    "\n",
    "for i in range(len(no_spaces)):\n",
    "    current_length = current_length + word_lengths[i]\n",
    "    if current_length > 125:\n",
    "        length_breaks.append(i)\n",
    "        current_length = 0\n",
    "\n",
    "print('There are ' + str(len(length_breaks)) + ' length breaks')"
   ]
  },
  {
   "cell_type": "markdown",
   "id": "0116292b-a2da-4bdc-84cf-0ea146bf9112",
   "metadata": {},
   "source": [
    "## Get document sections"
   ]
  },
  {
   "cell_type": "markdown",
   "id": "d5605f66-bdb8-4ad9-a346-a12e30dafe36",
   "metadata": {},
   "source": [
    "### Create final splits"
   ]
  },
  {
   "cell_type": "code",
   "execution_count": 6,
   "id": "12cbf316-6cb2-4a2c-98a5-70f6be841fd0",
   "metadata": {},
   "outputs": [],
   "source": [
    "final_splits = []\n",
    "\n",
    "length_breaks_counter = 0 \n",
    "\n",
    "for i in range(len(no_spaces)):\n",
    "    try:\n",
    "        if i >= length_breaks[length_breaks_counter]:\n",
    "            relevant_splits = [x for x in splits if x < length_breaks[length_breaks_counter]]\n",
    "            final_splits.append(max(relevant_splits))\n",
    "            length_breaks_counter = length_breaks_counter + 1\n",
    "    except:\n",
    "        pass"
   ]
  },
  {
   "cell_type": "markdown",
   "id": "ee2250e4-20e1-4e12-8fd5-412648c84a9e",
   "metadata": {},
   "source": [
    "### Create paragraphs function"
   ]
  },
  {
   "cell_type": "code",
   "execution_count": 7,
   "id": "0bc247ee-760b-45bb-bbaa-d5d63b05500b",
   "metadata": {},
   "outputs": [
    {
     "data": {
      "text/plain": [
       "\"About us. Saint James Backpackers is a family owned hostel, only a 5-minute walk from the Earls Court Tube/Metro station (District Line and Piccadilly Line). What we can offer to our guest? Central London location (Zone 1). A hostel with new beds, mattresses, furniture, bathrooms etc. Free 300Mb WiFi. Massive patio garden. Large lounge with 75'' HD TV (with Netflix and Sky TV). Free use of PS5, board games and guitar. Free London map. Irons and hairdryers for loan. Two dining zones. A new modern communal kitchen. Free Breakfast between 8am till 9.45am. Self-service (4 types of cereals, toast bread, jam, peanut butter, coffee, tea, milk and margarine, pancakes, juice , croissants). Free 24 hour tea & coffee, as well as seasonings and often free food for cooking. A building combining original Victorian architecture with modern amenities. For the ladies, an exclusive ladies-only private dorm and showers in the basement, as well as a make-up area on the ground floor. Multicultural friendly staff. Very safe neighborhood. Short walk to Holland Park, Kensington Gardens, Hyde Park and Kensington High Street. Many convenient bus routes. Sainsbury's local and launderette both 30 seconds walk away. Tesco superstore 3 minute walk. \""
      ]
     },
     "execution_count": 7,
     "metadata": {},
     "output_type": "execute_result"
    }
   ],
   "source": [
    "def create_para(p):\n",
    "    paragraph = ''\n",
    "    for i in p:\n",
    "        \n",
    "        if len(no_spaces[i]) > 2:\n",
    "        \n",
    "            no_spaces[i] = no_spaces[i].strip()\n",
    "            last_char = no_spaces[i][len(no_spaces[i])-1]\n",
    "            \n",
    "            if (last_char != '.') & (last_char != '?'):\n",
    "                paragraph = paragraph + no_spaces[i] + '. '\n",
    "            else:\n",
    "                paragraph = paragraph + no_spaces[i] + ' '\n",
    "            \n",
    "    return paragraph\n",
    "\n",
    "p = range(0, 19)\n",
    "create_para(p)"
   ]
  },
  {
   "cell_type": "markdown",
   "id": "e2822457-d1ac-4cf9-b5d5-25ec446393c7",
   "metadata": {},
   "source": [
    "### Create relevant ranges"
   ]
  },
  {
   "cell_type": "code",
   "execution_count": 8,
   "id": "2bf898f1-462d-4fcf-b32b-dc1b03e023d2",
   "metadata": {},
   "outputs": [
    {
     "name": "stdout",
     "output_type": "stream",
     "text": [
      "There are 135 ranges\n"
     ]
    }
   ],
   "source": [
    "ranges = []\n",
    "splits_counter = 0\n",
    "\n",
    "for i in range(len(final_splits)):\n",
    "    ranges.append(range(splits_counter, final_splits[i]))\n",
    "    splits_counter = final_splits[i]\n",
    "\n",
    "    if splits_counter == max(final_splits):\n",
    "        ranges.append(range(final_splits[i], len(no_spaces)))\n",
    "\n",
    "print('There are ' + str(len(ranges)) + ' ranges')"
   ]
  },
  {
   "cell_type": "markdown",
   "id": "36a6f077-1af7-46f6-a069-bad9f3e4538b",
   "metadata": {},
   "source": [
    "### Get all paragraphs"
   ]
  },
  {
   "cell_type": "code",
   "execution_count": 9,
   "id": "55779e02-dae4-4927-b9fb-38410a773f5f",
   "metadata": {},
   "outputs": [
    {
     "name": "stdout",
     "output_type": "stream",
     "text": [
      "There are 100 final paragraphs\n"
     ]
    }
   ],
   "source": [
    "df = []\n",
    "for i in range(len(ranges)):\n",
    "    p = ranges[i]\n",
    "    df.append(create_para(p))\n",
    "\n",
    "final_paragraphs = []\n",
    "for i in range(len(df)):\n",
    "    if len(df[i]) > 2:\n",
    "        final_paragraphs.append(df[i])\n",
    "\n",
    "print('There are ' + str(len(final_paragraphs)) + ' final paragraphs')"
   ]
  },
  {
   "cell_type": "markdown",
   "id": "a95722ad-f8ed-4aa6-ab32-ac7a87c296b5",
   "metadata": {},
   "source": [
    "### Check paragraph word lengths"
   ]
  },
  {
   "cell_type": "code",
   "execution_count": 10,
   "id": "d0a55c53-cd8a-4a3b-b7dd-c14ccd2d86dc",
   "metadata": {},
   "outputs": [
    {
     "data": {
      "image/png": "[encoded data removed]",
      "text/plain": [
       "<Figure size 640x480 with 1 Axes>"
      ]
     },
     "metadata": {},
     "output_type": "display_data"
    }
   ],
   "source": [
    "word_lengths = []\n",
    "for i in range(len(final_paragraphs)):\n",
    "    word_lengths.append( len([x for x in final_paragraphs[i].split()]) )\n",
    "\n",
    "plt.hist(word_lengths);\n",
    "plt.title('Paragraphs by word length');\n",
    "plt.xlabel('Words');\n",
    "plt.ylabel('No. of Paragraphs');\n",
    "plt.show();"
   ]
  },
  {
   "cell_type": "markdown",
   "id": "6d7c83f5-512f-4571-ab25-3ce828352b92",
   "metadata": {},
   "source": [
    "## Summarize long sections"
   ]
  },
  {
   "cell_type": "markdown",
   "id": "985cced5-43e1-4f0a-bfb2-cdabd952e22e",
   "metadata": {},
   "source": [
    "### Identify long sections "
   ]
  },
  {
   "cell_type": "code",
   "execution_count": 11,
   "id": "7cd09580-25b6-4c00-b255-0ff5c8d482b2",
   "metadata": {},
   "outputs": [
    {
     "name": "stdout",
     "output_type": "stream",
     "text": [
      "There are 42 long sections\n"
     ]
    }
   ],
   "source": [
    "long_sections = []\n",
    "for i in range(len(word_lengths)):\n",
    "    if word_lengths[i] > 199:\n",
    "        long_sections.append(i)\n",
    "\n",
    "print('There are ' + str(len(long_sections)) + ' long sections')"
   ]
  },
  {
   "cell_type": "markdown",
   "id": "dcc5b094-fa98-4542-9548-b314020dad8f",
   "metadata": {},
   "source": [
    "### Summarize with OpenAI"
   ]
  },
  {
   "cell_type": "code",
   "execution_count": 12,
   "id": "11512d70-2ac2-45af-8f1b-6862805aecfe",
   "metadata": {},
   "outputs": [],
   "source": [
    "from openai import OpenAI\n",
    "import os\n",
    "\n",
    "os.environ[\"OPENAI_API_KEY\"] = \"XXX\"\n",
    "client = OpenAI()\n",
    "\n",
    "def summarize(doc):\n",
    "    prompt=f\"\"\"I have a document below. Summarize it in less than 199 words. \n",
    "    Document: {doc}\n",
    "    \"\"\"\n",
    "    response = client.completions.create(\n",
    "        model=\"text-davinci-003\",\n",
    "        prompt=prompt,\n",
    "        temperature=1,\n",
    "        max_tokens=2000\n",
    "    )\n",
    "    return response.choices[0].text.strip()\n",
    "\n",
    "for i in range(len(long_sections)):\n",
    "    final_paragraphs[long_sections[i]] = summarize(final_paragraphs[long_sections[i]])"
   ]
  },
  {
   "cell_type": "markdown",
   "id": "40faffe3-c8dc-4b1d-923e-ca9884c908e6",
   "metadata": {},
   "source": [
    "### Check post-summarized word lengths"
   ]
  },
  {
   "cell_type": "code",
   "execution_count": 13,
   "id": "9459194e-8a4a-420e-87fa-08382a431082",
   "metadata": {},
   "outputs": [
    {
     "data": {
      "image/png": "[encoded data removed]",
      "text/plain": [
       "<Figure size 640x480 with 1 Axes>"
      ]
     },
     "metadata": {},
     "output_type": "display_data"
    }
   ],
   "source": [
    "word_lengths = []\n",
    "for i in range(len(final_paragraphs)):\n",
    "    word_lengths.append( len([x for x in final_paragraphs[i].split()]) )\n",
    "\n",
    "plt.hist(word_lengths);\n",
    "plt.title('Paragraphs by word length');\n",
    "plt.xlabel('Words');\n",
    "plt.ylabel('No. of Paragraphs');\n",
    "plt.show();"
   ]
  },
  {
   "cell_type": "markdown",
   "id": "63944ee2-910f-46bd-9b1a-363781dcd384",
   "metadata": {},
   "source": [
    "## Save to csv"
   ]
  },
  {
   "cell_type": "code",
   "execution_count": 14,
   "id": "29fdcd32-9efe-4fed-8541-a6c3da5443a7",
   "metadata": {},
   "outputs": [],
   "source": [
    "final_section_text = pd.DataFrame({'paragraphs': final_paragraphs})\n",
    "final_section_text.to_csv('final_paragraph_text.csv', index=False)"
   ]
  },
  {
   "cell_type": "markdown",
   "id": "7ce76923-748b-47c4-a30f-86d975f7101d",
   "metadata": {},
   "source": [
    "## View all paragraphs"
   ]
  },
  {
   "cell_type": "code",
   "execution_count": 15,
   "id": "2fda2c9b-82f8-4059-aa77-12b7143f80ce",
   "metadata": {},
   "outputs": [
    {
     "name": "stdout",
     "output_type": "stream",
     "text": [
      "\n",
      "About us. Saint James Backpackers is a family owned hostel, only a 5-minute walk from the Earls Court Tube/Metro station (District Line and Piccadilly Line). What we can offer to our guest? Central London location (Zone 1). A hostel with new beds, mattresses, furniture, bathrooms etc. Free 300Mb WiFi. Massive patio garden. Large lounge with 75'' HD TV (with Netflix and Sky TV). Free use of PS5, board games and guitar. Free London map. Irons and hairdryers for loan. Two dining zones. \n",
      "\n",
      "\n",
      "A new modern communal kitchen. Free Breakfast between 8am till 9.45am. Self-service (4 types of cereals, toast bread, jam, peanut butter, coffee, tea, milk and margarine, pancakes, juice , croissants). Free 24 hour tea & coffee, as well as seasonings and often free food for cooking. A building combining original Victorian architecture with modern amenities. For the ladies, an exclusive ladies-only private dorm and showers in the basement, as well as a make-up area on the ground floor. Multicultural friendly staff. Very safe neighborhood. Short walk to Holland Park, Kensington Gardens, Hyde Park and Kensington High Street. Many convenient bus routes. Sainsbury's local and launderette both 30 seconds walk away. Tesco superstore 3 minute walk. \n",
      "\n",
      "\n",
      "Rooms. In the hostel, we have a total of 104 beds for rental to guests. And we have 2 x 8 bed staff dorms.  \n",
      "\n",
      "We have 8, 6, and 4 beds dorm, as well as private rooms (double bed with en-suite, 2 single beds with en-suite, double bed with shared bathroom and triple bunk with shared bathroom). BEDS/ROOMS FOR GUESTS\n",
      "4 x 8 bed dorms mixed – Room 21, 22, 23 & 24. 3 x 8 bed dorms females – Room 2, 3 & 5. 2 x 6 bed dorms mixed – Rooms 32 & 36. 3 x 4 bed dorms mixed – 33, 34, 35. STAFF DORMS. Room 4– female staff 8 bed dorm (located on 1st floor). Room 7 – Basement male staff 8 bed dorm. Each bed in a dormitory is labelled with a letter as follows:\n",
      "Bottom bunk beds – A C E G\n",
      "Upper bunk beds – B D F H. \n",
      "\n",
      "\n",
      "New staff members arriving at SJB hostel should buddy up with someone of the same sex and language to help them integrate smoothly. They should be added to relevant SJB WA group chats and have their rota shown to them. If they wish to change the rota, they should ask someone to swap. They should also be given a SJB T-shirt, introduced to their buddy and sent videos on how to use the washing machines and vacuums. They should be made to feel welcome and, if a volunteer, the Head of Housekeeping should be notified. A message should also be sent to confirm arrival and that everyone on the induction checklist has been done.\n",
      "\n",
      "\n",
      "The rota changes. The rota detailing staff shifts is not fixed and can and does change based on the needs of the business and staff. Any staff that wants to make commitments on their days off e.g. travel abroad MUST agree with the Manager in advance. In the event that you do not agree with them then you alone are responsible if the rota changes and your plans are frustrated, and monies lost. If you agree plans with me in advance, then they will be honoured. \n",
      "\n",
      "\n",
      "At SJB, all volunteers are required to work 5 shifts per week for a total of 30 hours. The working week starts on Saturdays and ends on Fridays. Each shift comes with one hour of break time. Two days off are given per week's cycle, though sometimes this may be consecutive. If a volunteer wishes to swap a shift, they should first seek consent from the person they would like to swap with. If the person agrees, they should email and inform the Main Receptionist of the agreed swap. If agreement cannot be reached, the volunteer should make a request to the Main Receptionist. The rota is published in the Group's WA chat and at reception. Any questions can also be answered by the Main Receptionist.\n",
      "\n",
      "\n",
      "Computer System. There are currently two computers at reception; the receptionist is to use the Apple Mac, which is the main computer of the office. We mainly use the following programs:. Microsoft Excel (Payment sheet, cleaning log, Issues List). Microsoft Word (Invoice models, Email replies, Logins). Google Chrome (Main internet browser and Little Hotelier). Dropbox (File sharing service). You must have a basic understanding of all these programs before you start working as a receptionist. The main files, that the receptionist requires can all be found in the Dropbox. Dropbox is a PC folder, which we can access from multiple computers. PC Security & Data Protection. We handle a lot of sensitive data here; therefore, we need to be extra careful handling any person data and when working on the PC. \n",
      "\n",
      "\n",
      "PC security policies are essential to protect information related to guests and employees. The Wi-Fi should be switched off on Mac computers, and only turned on if both routers in the office are not working. USB sticks should not be inserted into Macs, as they can spread viruses. The Mac should not be used for personal use and, instead, a spare PC should be used. Information that can identify an individual is classified as personal data and must be protected. Staff should not share information about other guests unless they have been approved by a senior staff member. Furthermore, sensitive information, such as card numbers, should never be written down as it can easily fall into the wrong hands.\n",
      "\n",
      "\n",
      "OneDrive Manual. The purpose of this manual is to have unification of files between the Main Receptionist (MR), Reception Assistant (RA) and Stephen. The guide will explain the process to open the correct Rota, Expenses sheet and Tesco Quantity and Links files, while preventing the duplication of files. To login to the correct OneDrive use the URL below. https://www.google.com/search?q=microsoft+login&rlz=1C5CHFA_enGB1043GB1043&oq=microsoft+login&gs_lcrp=EgZjaHJvbWUyBggAEEUYOTIGCAEQRRg8MgYIAhBFGDwyBggDEEUYPNIBCDg0MTRqMGoxqAIAsAIA&sourceid=chrome&ie=UTF-8#:~:text=Microsoft%20account%20%7C%20Sign,%E2%80%BA%20account%20%E2%80%BA%20Account. \n",
      "\n",
      "\n",
      "The email SaintJamesBackpackers@saintjamesbackpackers.onmicrosoft.com should be used to access the 'Payment Sheet'. The password can be found in the 'Logins SJ' file. When accessing the OneDrive in the morning, the correct Payment Sheet (PS) should be opened and any old or duplicate sheets should be deleted. The PS should be renamed each morning and should be opened in the SaintJamesBackpackers@saintjamesbackpackers.onmicrosoft.com OneDrive which is visualized by the profile image. In the event the PS is opened in the wrong OneDrive, the PS should be immediately be downloaded, uploaded to the correct OneDrive and be found in 'My Files'. Any problems with the OneDrive should be directed to a senior MR or Stephen before making any changes. In addition, online bookings are received from many different websites with the same idea, but varying in specifics.\n",
      "\n",
      "\n",
      "Processing Online Bookings. Once this is completed you must go back to the email and file it into the bookings fold, in outlook. Websites Specifics. Booking.com. Types of bookings:. Hotel Collect (Booking HC). Hotel collect bookings are where the guest pays us directly for their booking.There are two types of booking HC reservations: the ones for which we can access the guest’s credit card details, and the ones we cannot access the guest’s credit card details. You can tell that a booking is a HC booking, when the name on the card provided is the guest’s name, or when there is no online card to charge. \n",
      "\n",
      "\n",
      "Booking.com Collect (Bookings VC). Booking.com Collect bookings are where the guest is charged by Booking.com for the entirety of their booking (ie. Booking.com collects the money for the booking). We then collect the money from booking.com, by charging their virtual card. You can tell that a booking is a VC booking as the name on the card provided would be ‘Booking.com’s Agent’. Room Rates:. Non-Refundable Rate (2% discount). Regardless of how payment is collected you must charge for the full amount at the time of the booking. If it is a HC booking and the card is declined you must mark the card as invalid and send the guest a messaging, asking them to provide alternative card details. If it is a VC booking and the card is declined, you must contact booking.com. \n",
      "\n",
      "\n",
      "Flexible rate. If this rate is booked as a Booking.com collect booking you can charge the virtual card, when the guest arrives. If this rate is booked as a hotel collect booking you must pre-authorize the amount for the first night’s stay on the guest’s cards. You DO NOT need to charge for the first’s night’s stay. \n",
      "\n",
      "\n",
      "Hotels must pre-authorize guests' credit cards when they have booked with the flexible rate and booked as a hotel collect booking. Pre-authorization is the same as charging a card, except it is select pre-authorization is selected. The amount pre-authorize must be equal to the price of the first night's stay. If the booking is within 12 days of the check in, the card must be pre-authorized straight away. If the booking is made more than 12 days prior to the check in, the card must not be pre-authorized. Every day the day receptionist must pre-authorize cards if there is a booking.com booking 12 days in the future. The date of the pre-authorization, amount and the reference number can be found in the pre-authorization receive and must be recorded in the notes of the booking in LH. If the pre-authorisation is declined, the card must be marked invalid and the guest must be asked to provide alternative card details.\n",
      "\n",
      "\n",
      "When guests argue that their credit card has been charged when it was only pre-authorized, the new solution is a pre-authorization reversal. Utilizing a card machine, find the third option (\"Pre-Authorization Reversal\") and enter the credit card number, expiration date, amount blocked, and host reference number from the pre-authorization receipt. Any reservations from booking.com receive validation from the website directly, and the comments section in the sheet should note \"validated by booking.com\". This allows guests to have the money blocked during pre-authorization unblocked, allowing them to use the funds again.\n",
      "\n",
      "\n",
      "What to do if the reservation is a VC (Virtual Card) and the guest has not arrived?  Reservations are to be moved into the no-shows section and deleted from the bed allocator. Acknowledging the cancellation request, select the “Don’t Waive Fees” option in the booking extranet. Record the details in the Comments sheet of Excel document, and written in theTotal sheet.\n",
      "\n",
      "If the card is declined at the time of booking, the guests are to be informed and their card details marked as invalid on the reservation page. Note the reason for the report and the last digits of the card in the pop-up window. After 24 hours, the reservation has to be cancelled on Booking.com. Enter the transaction details in the Comments sheet of the Excel document. In the Total sheet, enter the formula =A-B, where A is the total for the booking and B is the amount charged for the first night.\n",
      "\n",
      "\n",
      "Cancellations:. Non-Refundable Rate (5% discount) – we cannot refund any bookings made on this rate. Flexible rate – We operate a 48H cancellation period; this means any cancellations within 48h of the check in date will result in being charged a cancellation fee equal to the amount of the first night’s stay. Any cancellations before this 48h period can be process with no charge. How to access card details? Booking.com only stores card details for 7 days after the booking was made, but you can still access them through Siteminder (same as for when you charge for the first night). NO SHOWS / CANCELLATIONS when the guest paid with a Virtual Card (VC). If the guest paid with a virtual card and then they cancel / do not show for the day of check in, then in most cases cancellation and no-show charges apply (always check the their booking policy beforehand). \n",
      "In this case, when marking the guest as a no show, ALWAYS select the option DO NOT WAIVE THE NO SHOW FEES. If we select the other options, guests will be refunded the cost of their reservatio. \n",
      "\n",
      "\n",
      "Hostelworld.com allows guests to pay a deposit when booking and the remaining amount when checking in. If a guest does not show up, the hostel must charge the guest for the full cost. If the card is declined, the name should be added to the banned list and marked as \"no show, card declined\". In order to access card details, they can open the reservation in Little Hotelier, find the Payment tab, click \"View\" and enter the code. If booking a Non-Refundable Rate, the full amount must be charged at the time of booking. If the card is declined, alternative card details must be requested from the guest.\n",
      "\n",
      "\n",
      "The Booking Button. How payment works? The booking button is a program we use for booking we receive through our own website (www.saint-james-hostel.co.uk). This means that we Do Not pay any commission! Payment is taken in full upon check in. \n",
      "\n",
      "\n",
      "Hoteliers must pre-authorise guest's card when making a reservation through The Booking Button. When the booking is made 12 or less days prior to check-in, pre-authorization must be done immediately for the cost of the first night's stay. Everyday, the day receptionist needs to check for future bookings that are 12 days out and pre-authorise the card if there are any. If the pre-authorisation is approved, the hotelier must notify the guest, and if declined ask for new card details within 24 hours and add them to the bookings document. In the event of a guest not showing up, charge their card for the full amount of their stay and add them to the ban list. To find a guest's card details, open the reservation in Little Hotelier, go to the Payment Details tab, click View and enter the code sent to the hotel's email. For Expedia bookings, guests pay Trip.com upfront and cannot be refunded if they cancel or don't show up. View card details on the Charging VC section of the page.\n",
      "\n",
      "\n",
      "If a guest books through Expedia Collect, the virtual card they provide at the time of booking can be used to make a refund should one be necessary. Trip.com works similarly to bookings.com but with a prepayment system in which guests pay Trip.com and the payment is obtained as a virtual card. Guests who do not show up and those who cancel after making their reserve cannot be refunded for the price they have paid. Card details can be accessed according to the 'Charging VC Section' on a certain page. For no-shows, the night reception is to charge them by 6 am and report it through an end of shift email. If this is not done, then the day reception must be informed and the details should be included in the end of shift email.\n",
      "\n",
      "\n",
      "‘No shows:. Mr. X - I didn’t have time to charge, left with day receptionist. The day reception must then charge for the no show (this is one of the very first things to do when coming on shift). If this is the case you must also include a statement in your end of shift email, for example:. ‘No shows left over from night shift:. Mr. S – Charged £X. XX. Mr. X – card declined.’. Group Bookings. There are different types of group enquiries; the first is when a group contacts us directly, the others are when a travel agency contacts us on behalf of a group or when a group contacts us through a website (i.e. GroupCorner). From the point of receiving the group enquiry there is a number of different steps that take place before they stay, just as follows:. \n",
      "\n",
      "\n",
      "When a group booking is received, the initial response must be drafted and sent to Stephen for confirmation. Changes are made accordingly and the total amount recalculated when necessary. Unfortunately, beds cannot be held without a deposit paid. Upon confirmation, either via email or by phone call, the relevant information must be entered into the 'Bookings2018' Excel document either in the Future Guests' section or the Groups' tabs. If entered into the Groups' tabs, the confirmation must be noted in the comments.\n",
      "\n",
      "\n",
      "Remove the beds from Siteminder. Add an event to the calendar, on the day the beds are being held until, to remind whoever is on reception that they should have confirmed the booking by now. The event must have an alert and a description; containing information about the related booking. You must then respond to the guests informing them that they must pay a 10% deposit in order to confirm the booking. The email should look like the following:. \n",
      "\n",
      "\n",
      "Stage Four: Receiving Deposit. We will know that we have received the deposit when Stephen Emails the list of most recent bank transfers (you may need to email him asking for this). Once the relevant deposit has been paid the following steps must be taken:. Double check that the relevant beds have been blocked out on the bed allocator, and taken off siteminder. Update the ‘Groups’ section of the ‘Bookings2018’ excel doc, with the date the deposit was received on, and the remaining amount to be paid. Create an invoice for the booking. Send a confirmation email to the group’s leader stating that we have received the payment, with the invoice for the remaining amount attached (see pg.42 for Invoices). Clearly state in the email when the remaining amount is due (21 days prior to arrival). \n",
      "\n",
      "\n",
      "Stage Five: Receiving remaining amount. As stated earlier you must be checking the ‘Groups’ excel document every day, updating it is as we receive updates and payments. If a payment is overdue you must contact the group’s leader, reminding them that the remaining amout is due. Include the invoice and state the remaining amount in the email, also explain that they have 48 hours to contact us, failing to do so will result in the beds being release, and any monies paid so far being lost (see example right). If the amount paid does not match the amount due then you will need to inform the leader of the group, stating the variance, and the amount still owed, as well as explaining to them that the discrepancy may be due to hidden bank fees and varying exchange rate. Any amounts larger than £100 must be paid prior to arrival, any amounts less than £100 can be paid upon arrival. Update the balance due, and add to notes when and how the remaining amount will be paid. If the paid amount is correct then update the ‘balance received on’ cell and delete the balance due date. \n",
      "\n",
      "\n",
      "On the day that a group arrives, the group leader should be contacted to prioritize which rooms need to be cleaned first. If they are arriving after their rooms are already cleaned, then their rooms should be prioritized. If a guest has forgotten to move rooms, their luggage should be moved to reception and they should be informed. When the group arrives, they should be shown around the hostel and their rooms, the security deposit should be paid, and all ID's should be scanned and counted before being handed back to the leader.\n",
      "\n",
      "\n",
      "Stage seven: Departure of group. On the day that the group is due to departure you must:. Print off the return of security deposit (word doc) for the group leader to sign once they have received the money back. Ensure that all linen is brought down from the rooms. Collect all keys that where given out, and go an inspect all of the rooms. Once you are sure there are no damages and all of the keys have been returned you can refund them the security deposit. If they paid in cash, return in cash, or if they paid by card, return by card. (To return the SD on card you will need an assistant manager or Stephen with you.). As you are checking the group out, don’t forget to ask them about their stay, and if they have had a positive experience as them to leave us some good reviews!!!. \n",
      "\n",
      "\n",
      "We offer a £2.00 fee per bag for storing luggage prior to checkout. If the customer agrees to get their students to write a good review about us we will offer a significant discount. Our cancellation policy states that guests can cancel their bookings 48 hours prior to their check-in time free of charge. Cancelling within the 48 hour window will result in being liable for the first night's stay. If the booking was made online, the guest must cancel through the website they booked on. Otherwise, if booked in person or through our website, they must contact us to inform us of the cancelation. If fees apply, we will receives an email with the cancelation details. Please refer to the respective payment methods as stated above.\n",
      "\n",
      "\n",
      "Finding Card Details. Sometimes you will need to access the guests, or bookings companies’ card details, in order to charge the guest in cases of no shows, late cancellations, or virtual card payment method. Generally you will be able to access these details through the relating sites extra-net, but if you are unable to find them you can also access them through siteminder. To find cards details on siteminder all you need to do is to search for the booking in question, though the reservations tab, and then click on the reservations ID number. On occasion the full 16 digit card number will be blocked, whereby all you’ll need to do is to click the padlock next to the number and login (using siteminder’s credentials). (Please note: this does not work for all websites, such as hostelworld and dorms.com). If you cannot access the card details through either of these methods you will need to contact support from the relating site. \n",
      "\n",
      "\n",
      "Customer service must be of the utmost priority. To make guests feel welcome, one should ask them questions such as how their day is going, if they come from, what their journey has been, and if they have any plans. Furthermore, rather than remaining mechanical and uninterested, it's important to take a genuine interest in the guest and find common interests. A kind and soft tone should be taken when relaying information guests may not like. Lastly, if anyone looks lost, it is important not to be afraid to ask if they need assistance. These simple techniques can all lead to a happy and satisfied guest.\n",
      "\n",
      "\n",
      "When checking in a guest, ask them for their name and booking details, ensure the room is ready and ask for their ID. Read out the booking details and inform them of any payments required, including a key deposit. Record all payments in the relevant system. Explain evening meals and breakfast, whilst showing them the kitchen, smoking area, and bathrooms. In a dorm, show them their bed and ask them to bring back sheets when they check out. Lastly, explain they must keep the central walkway clear for health and safety reasons.\n",
      "\n",
      "\n",
      "Businesses are now implementing a PIN-only policy when it comes to paying by card due to some significant losses caused by fraud. To pay by card, customers must use their PIN even if they wish to sign. Cash is also an option. When processing the payment, customers will be given the option to pay in their home currency or pounds. Paying in home currency will get a guarantee exchange rate, and is recommended for the best value. Businesses will read the exchange rate off the machine for customers.\n",
      "\n",
      "\n",
      "After confirming the currency. If the payment is done using a chip and pin card, the guest will have to enter their PIN; hold the terminal so that they can enter the pin and then press the green button to confirm it; you will get two receipts – the first one is the merchant copy that you retain and the second one is the customer copy which you will hand to the guest together with the card. If card machine doesn’t work the problem can normally be resolved by restarting the card machine by pressing and holding 2 buttons simultaneously:. (1) The Yellow button (bottom row, middle button). (2) The button with a full stop (right hand side, one up from bottom row). \n",
      "\n",
      "\n",
      "End of shift handover process. At the end of a reception shift make sure the outgoing and incoming receptionist agree with the amount of cash in the till. Agree the printout for the end of shift batch from the card machine. The person finishing the shift should sign the batch print out \"I certify this is the correct end of batch print out and is reflected in the Payments tab of the Bookings Sheet\" and should then sign and print the batch printout on the back. The person taking over on the new shift should then sign \"\"I certify this is the correct end of batch print out and is reflected in the Payments tab of the Bookings Sheet\" and should then sign and print the batch printout on the back. Obviously both parties should check and make sure they are happy with this. \n",
      "\n",
      "\n",
      "The document outlines a cash management system for a business. All cash received is to be recorded in a Payments Sheet and placed in the till immediately. To ensure all payments are captured by CCTV, the till should be kept on the right side of the cashier and the electronic screen should face one of the cameras. Cash should only be taken out of the till for three reasons: to exchange change with customers, withdrawal for Stephen, and to make a purchase not exceeding £20. If a purchase over £20 is to be made, Stephen's permission must be obtained first. Any cash injection into the till must be accompanied by an email from Stephen stating the injection amount.\n",
      "\n",
      "\n",
      "Cash purchases. When there is something that the staff needs (e.g. guest satisfaction is missing something for dinner, handyman needs something), they can ask the main receptionist to give them the money to buy it. The main receptionist does not put anything in the till until the person is back with the change (e.g. if they take £10 and they only paid £4.56, we put -£4.56 in the till and mark it as “other withdrawal” which is located in the bottom right corner of the till). After that, we put -£4.56 in the payments sheet of the Booking Sheet excel document. This does not refer to any big purchases as those are done by the guest satisfaction when they do the weekly delivery. The person who went to the store must always come back with the receipt which the main receptionist should scan (name it “cash purchases dd/mm/year/”) and put it in the folder called receipts in Dropbox. At the end of the shift, the receptionist should include the cash purchase slip in the email for Stephen and the assistant manager, and also write the amounts and what was bought. Reducing errors. \n",
      "\n",
      "\n",
      "General Rules. No matter how busy, stay calm and focused. Don't panic and deal with one guest at a time. If there are a lot of guests wanting to check in/out deal with the first one and ask the others to take a seat at the dining table. always process a booking in full before you move on to your next task. So for example, take payment and update the Payment sheet and the LH booking fully before moving on. If the next guest is made to wait apologise but focus on one at a time!. Examples of Recent Problems. Problem 1: Guests sleep in the wrong bed. Prevention measure: always take a guest to their bunk bed and physically touch the mattress and say “This is your bed, please don’t move to another bed as this will result in a £10 fine”. Also pull their locker out from out from under the bed and open it for the guest (if there’s stuff left from previous guest clear it out). \n",
      "\n",
      "\n",
      "To keep guests staying beyond their check-out date from taking beds from current guests, receptionists should ask for the key fob of any guest they don't recognise and have a friendly chat to check the name and bed. Before a guest changes rooms, receptionists should make sure they know about it while checking them in, and leave a reminder note the night before the move. Every night, the night receptionist should look for those due to be changing rooms the next day and leave a reminder note on their pillow before 10 pm. If a guest is already checked in and needs to change rooms, receptionists should find them to explain the situation, otherwise a note should be left in the room.\n",
      "\n",
      "\n",
      "People who have forgotten to move out of their room must have their belongings bagged and taken to reception, with a notice asking them to come to reception immediately. For towel rentals, guests must be explained that it will be £5 for each towel and added to payments and the number of towels on the Payment Sheet. When checking out, guests must be checked in the current guests list, and asked how their stay was. Any key deposits given must be refunded to the guest, and if they were happy with their stay, they should be given a business card to leave a review to receive a 10% discount for their next stay. If they would like to leave their luggage at the hostel, that is £2 per day. The luggage will have a tag with their name and they must show that tag when they pick up their luggage.\n",
      "\n",
      "\n",
      "When a group checks out, they should receive their security deposit in cash, after ensuring that the keys have been returned and the rooms have been checked for damages. Damages that incur a deduction from the deposit include lost keys (£10 per key, £20 for Room 5), bent bed supports (£20 per bunk bed), locker damages (£50 per locker), and broken windows (£200 per window). Deductions can also be made for other damages, and the amount will be discussed with Stephen. It is common for the bed supports on top bunk beds to be bent, as children and teenagers may jump on them. Photos should be taken of damages and agreed upon with the adult group leader. The deposit should only be returned by bank transfer if the group can't wait for a complete check. When the deposit is returned, the person receiving it should sign a form acknowledging receipt in cash. This form can be found in the Dropbox called \"Return of Security Deposit\".\n",
      "\n",
      "\n",
      "SiteMinder is a channel manager that provides automated access to online booking channels and is capable of updating prices and availability in real time. It is connected to all of the websites used to sell beds and can update all of them with just one booking. It also updates the prices and availability of rooms for every day. In addition, Little Hotelier is used to manually enter walk-ins, and the reservation automatically appears in SiteMinder. In summary, SiteMinder is a powerful tool used to manage and automate booking channels, update prices and availability, and synchronize data.\n",
      "\n",
      "\n",
      "Little Hotelier (LH) is a platform designed to meet the needs of hostels. It offers efficient reservation management, streamlines front desk operations, integrates with online travel agencies, facilitates guest communication, and provides reporting and analytics tools. LH's calendar feature allows hostel managers to visualize their bookings, adjust room availability, and efficiently manage multiple bookings. The calendar features colour-coded bookings so hostel managers can easily identify confirmed reservations, bookings that have yet to check-in, guests who have checked-in, checked-out bookings, and room closures. LH provides hostels with the comprehensive capabilities they need to manage reservations, streamline operations, and deliver exceptional guest experiences.\n",
      "\n",
      "\n",
      "Inventory Tab. The Little Hotelier inventory tab is a valuable tool specifically designed for us to effectively manage our inventory. This feature enables us to efficiently track and control the availability of beds, rooms and our prices. With the inventory tab, we can easily view the real-time status of our inventory, make necessary adjustments, and ensure accurate information for guests. Bulk update rates and availability. With the Bulk Update, you can quickly and easily perform extensive updates to availability, rates, and restrictions across our inventory. It features flexible date options so we can update multiple date ranges and specific weekdays over a date range.\n",
      "\n",
      "To update our inventory with the Bulk Update:. \n",
      "\n",
      "\n",
      "Click INVENTORY. In the upper right of the page, click Bulk Update. Select Rates/ Availability or restrictions (CTA/CTD/Min Stay/ Max Stay/ Stop Sell) from the Set drop-down. Rates - apply changes to manual rates. Availability - apply changes to room type and room rate availability. Enter the values you want to update to. Specify a date range from the calendar picker. Select or deselect weekdays as required. (All days are selected by default). Add another date range (if applicable). Specify the room rates/channel rates you want to update:. Click a checkbox to apply updates to a specific room rate/channel rate. Click a drop-down to reveal manually managed channel rates. Room rates/channel rates without any tick box represent derived rates that are not selectable. Click Save in the bottom-right of the screen to apply the update. The Bulk Update tool will now update inventory according to what you set up. You can view the changes in the inventory grid by navigating to the date range you selected. \n",
      "\n",
      "\n",
      "Little Hotelier Payments. While online bookings are made automatically by LH payments are not processed nor recorded in LH and must be done manually. Different online booking channels have a variety of different booking partners e.g., Hostel World, Booking.com, Expedia etc. Below is a table of the different payment methods how we take the payment and how we record it. Hostel World PayNow bookings. Hostel World Paynow bookings are paid for in full online and go straight to a Saint James Bank account. Paynow bookings on Hostel World are uncommon, however, this be identified when checking the booking email when it’s received as the balance due will be GBP 0.00 (See the image below). Once a Paynow booking has been identified a section must be filled out in the Payment Sheet tab ‘Paynow Sheet’. The ‘Paynow sheet’ tab is used to check the payment has been received in the account 2 weeks from the time the booking was made. \n",
      "\n",
      "\n",
      "Recording Payments. Payments are recorded in two sections for two different purposes. The first area to record payments in LH itself. All payments associated with Booking costs and Key deposits is to be recorded in LH, this is so when guests check in and out the data is readily available to assess what is left to pay or refund. LH Payments. As can be seen above, there are numerous payment types to outline, the only three required are Card, Cash and Online Travel Agency. The card is to be used for those paying outstanding bookings (HCN, HW or BB) or key deposits in person the same is for cash. Online Travel Agency is to be used when processing online booking (Booking VCD, VC, Trip VC and Expedia) when charging a no-show or a cancellation fee on HW or BB if the charge is successful use the card payment type. \n",
      "\n",
      "\n",
      "Excel Payments must be recorded in a 'Payment Sheet 20.11' Excel File every day in addition to the Laser Hospitality software. This is to track all payments, including those not attributed to Laser Hospitality, such as drinks, ear plug luggage costs, etc. The Payment Sheet is reconciled to the card reader's Batch at the end of each shift. Virtual Card details for Booking.com, Expedia, and Trip.com can be found in the guest reservation on Laser Hospitality, available by pressing the 'view' button. Charge on Arrival card details for Hostel World and Booking Button reservations can be found in the same location, but should only be utilized if the guest is a no-show or incurs a Cancellation Fee.\n",
      "\n",
      "\n",
      "Charging Virtual Cards on day. Many Booking.com and all Expedia and Trip.com payments are done through virtual cards that can only be charged on the reservation’s day of check-in. To streamline the charge-on-day process, you can view all the bookings checking in today by doing the following in LH:. Go to the Front Desk app on SiteMinder. Go to the Reports tab. Open the Check-in Tab. After opening the Check-in tab, it will automatically load up the reservations checking in that day. To determine which reservations are yet to be charged look at the ‘Outstanding Balance’ heading and charge all the bookings made on Booking.com, Trip.com and Expedia. Extensions in LH. \n",
      "\n",
      "\n",
      "In-Person Extension. An in-person extension is when a guest extends at the reception desk which is how we prefer current guests extend a booking. To process an in-person extension click on the guest’s current booking and change the check-out date to the new end date they request provided we can availability. The rate plan will automatically update the price by the amount SiteMinder has listed the bed/room for the days. If the guest requests, we price match with booking.com simply type the difference in the discount box so we can monitor the discounts given. \n",
      "\n",
      "\n",
      "Extensions online. Online extensions made through our booking partners and our direct channels are quite common, but in-person preferred as we pay commission on online bookings outside our website. In the event of online extensions try to keep them in the same bed if possible. If they can stay in the same bed, the morning they check out, provided they have paid online check out the old booking and check in the new one. If they haven’t yet paid wait to check them out and in until they’ve paid for the new booking. Regarding KDs of online extensions, as they’ve already paid the KD to keep updated records, refund the £10-20 on their original booking noting “RKD (Rollover)” and subsequently record a payment on the new booking for the same amount as “KD (Rollover)”. \n",
      "\n",
      "\n",
      "Invoices. In the past we have made invoices manually using a Word document template, however, with the introduction of LH they are now generated automatically in LH using the booking information. To generate an invoice in LH simply click the reservation you need to make an invoice for in the reservations or calendar tab. Once viewing the reservation click the invoices tab on the far right of the reservation menu and press the option ‘Generate Invoice’. Once the invoice is generated there is the option to “print/view” or “Email” Ask the guest what they’d prefer (preferably email to save paper/ink). If they request an email ensure the email on file is correct in the details tab of the guest reservation, at this time the booking site may link an affiliate email such as ‘ckenne.619713@guest.booking.com’. If the guest would prefer it printed, please remember we charge £0.50 per page of printing. Little hotelier Reports. LH has a variety of reports that provide useful information for the hostel. Below is a breakdown of each report we use, how to use them and their respective application to the business. \n",
      "\n",
      "\n",
      "Little Hoteliers' Check-In Report provides a summary of the check-in process, offering detailed information such as guest names and contact information, as well as any special requests or preferences noted during check-in. This report helps hotel staff to monitor guest arrivals, streamline the check-in process, and provide personalized services. Additionally, the Payment tab records all payments made for reservations, allowing staff to locate discrepancies in an Excel payment sheet or card terminal, and the Housekeeping Report generates a list of beds to be made and checked each day. These features of Little Hoteliers offer an efficient way to manage arrivals, payments, and housekeeping to enhance the overall guest experience.\n",
      "\n",
      "\n",
      "The MR sends out a morning list to the housekeeping team at 10 am detailing beds/rooms and priorities for the day. Using the calendar, HKs should check and make all beds vacated that day, as well as any other rooms with ongoing bookings. HKs should assigned one floor each and the load should be spread equally. Deep cleaning jobs should be assigned on quieter days. Beds should be made and checked by 10:15-10:30 am, and all extension and checkout should be done by 10 am. For convenience, HKs should order the list numerically according to room number.\n",
      "\n",
      "\n",
      "Little Hotelier allows users to create profiles and assign various permissions depending on their role. To create a new user, simply click on the property name at the top right of the page, followed by Manage Users, then Add User. Following that, enter the user's email address, select the apps they will have access to, and click save. For users with admin user level, the permissions they will have access to are Calendar (create and manage reservations and room closures), Reservations (view reservation details and generate reports), Inventory (manage daily rate, availability, and restrictions), Guests (view and edit guest profiles), Reports (generate and view reports), Setup (configure the front desk and booking engine). For general users, each permission must be selected individually. For housekeeper profiles, only enable ‘Front Desk’ with the permissions ‘Calendar’ and ‘Housekeeping.’\n",
      "\n",
      "\n",
      "Day shift specifics. Day shift starts at 7 am and lasts until 7 pm. After counting the money with the night shift receptionist, the day shift receptionist should start with their own shift. \n",
      "\n",
      "\n",
      "In the morning, it is important to check the breakfast setup and ensure any tasks not completed by the night receptionist are carried out. Check-outs take up most of the morning and it is important to keep the Empty bed sheet updated. The housekeepers should be instructed on which rooms to clean first and their progress should be monitored. Check-ins usually start at 1pm so it is essential to ensure all rooms are spotless by then and that there is enough clean laundry available for the new guests. Two copies of the room cleaning sheet should be prepared by the night receptionist.\n",
      "\n",
      "\n",
      "Afternoon. -During the afternoon, continue with the check-ins, replying to emails and do anything else that needs to be done. -. Always count the money with your support receptionist, and make sure to leave enough in the till for the check-outs the following day. We Generally keep £50 in £10 notes in the till as all Return Key Deposits should be completed by card, the cash is for cash purchases and guests that are unnegotiable to be refunded in cash. -At the end of your shift, you will need to count the money with the night receptionist to assure that the amount you have is correct and that they know their opening balance. It is important to print out the batch from the terminal. The batch from the terminal is printed by choosing “F” and then “Batch – however, it will ask you if the sales and the refunds are correct. If yes, click the green button and print out the batch. You should staple the batch with the receipts for the day together and both you and the night shift receptionist should sign them (you should also include the date of your shift). \n",
      "\n",
      "\n",
      "Night checks. There are few things that the night receptionist should do during the night shift:. Payments and bookings check. Every night the Night Receptionist must check the day before bookings in LH in order to identify, manage and report mistakes registered in the LH bookings or “Payment sheet”. This check involves some activities, as follows:. \n",
      "\n",
      "\n",
      "It is important to ensure that payment information is up to date in LH Bookings before guests check in or out. The Total Outstanding should be -£10 if they have not checked out, and £0 when they have. In the Payment Sheet, check that payments, key deposits, and key deposit refunds (if applicable) have been accurately entered and that they match the payment information for the booking. If incorrect information is found, the Night Receptionist should attempt to fix the mistake if information is available. If not, a note should be included and the issue should be addressed when more clarity is available.\n",
      "\n",
      "\n",
      "Cancellations. The Night Reception also must check the day before cancellations registered in LH. To check this issue, the Night Reception should look up information on LHReservationsStatus “Cancelled”  and filter the information of the day before:. Afterwards, the Night Receptions must to find out:. If the booking was cancelled according to the cancellation policy, which involves:. Verify if was a non-refundable booking so the virtual card should have been charged and registered in LH booking. If the booking was cancelled 48 hours before check-in date. If yes, verify if the cancellation fee was charged and duty registered in the “Payment Sheet” and in LH booking. \n",
      "\n",
      "\n",
      "The Night Receptionist is responsible for sending an email to the Manager at the end of the shift to report errors, briefly explaining how they were managed. A “Mistakes Report” excel must be filled out and sent as an attachment. It should include a brief description of the mistake, its current status, when it occurred, and the Main and Reception Assistants on duty at the time, and general notes about how it was handled. The Night Receptionist must assign beds for guests who've booked multiple beds, charge virtual cards, check beds for guests not yet checked in and empty beds, and must ask the housekeeping or Reception Assistant for help if inconsistencies are found.\n",
      "\n",
      "\n",
      "Key checker. Key checker sheet can be found in Dropbox. The night receptionist should print it out and fill it in as follows:. Check the keys which we have at the reception – those that are there, mark with a tick. After that, open the current guests sheet from Bookings2018 and mark the keys that the guests currently have with an x. If there are some keys missing, mark them with a 0 – check if we have spare keys for those and report the day receptionist in the morning so that they can cut the keys need them. \n",
      "\n",
      "\n",
      "The night receptionist must check through the bookings that are 12 days in the future to pre-authorize bookings done through Booking.com, Expedia, Laterooms, and Booking Button when they paid with a flexible rate. They must also check last night's bookings where pre-authorization may have failed to see if the payment was updated. Furthermore, every month the receptionist must delete old and unneeded files from Dropbox, One Drive, and Mac drives. They must also keep the kitchen clean and the food set up for breakfast by 6am. Finally, the receptionist should send an email to the manager after the cleanse summarizing what they have done.\n",
      "\n",
      "\n",
      "The receptionist should prepare breakfast for guests at 6 AM. Bread, eggs, and pancake mix should be brought to the kitchen. Knives and the smaller plates should be placed near the toaster, with the bread being placed on top of the microwave. For the pancake mix, eggs should be whisked with sugar then milk and flour added in, then baking soda and more sugar until the batter is smooth. FIFO rule should be followed for all foods, and only prepare enough mix for the number of guests. Finally, all meals should be brought to the dining area for guests to enjoy.\n",
      "\n",
      "\n",
      "Window table. Fill the urn with water to the top (but do not turn it on until 6 am!). Bring out the mugs, glasses, and small spoons from the kitchen and place them on the table next to the window where the urn is. Bring out the coffee, tea, and sugar (and fill it up if needed). After 6 am bring out and fill up the metal juice containers, place them on the table together with the labels (the containers are on the top of the fridge downstairs and the juices are in the private cupboard under the microwave in the kitchen). Mirror table. On the right side of the portable table place spoons and bowls for the cereals. After 6 am, bring out the cereals (4 boxes) and fill them up upstairs if needed (so that you don’t keep opening the boxes downstairs and wake up Mary). \n",
      "\n",
      "\n",
      "The main table in the dining area should have peanut butter and jam on one side, while butter and golden syrup should be placed in the center. Napkins should be placed on both sides of the table. All common areas must be closed from 3AM-6AM and guests should be informed. Guests should be warned to keep noise down, as excessive noise has led to the hostel receiving formal complaint letters from the council, which can result in fines and closure. Guests who fail to listen should be sent to bed or asked to leave, and the police should be called if they fail to do so. After 9PM, no electronic device should be playing music in the garden, and during the night reception shift (7PM-7AM) there should not be any audio devices playing in the office. The curtains in the lounge outside the office should always remain open, allowing sight of people in the garden.\n",
      "\n",
      "\n",
      "Keep your noise down!. There have been occasions in the past where staff have been the source of the excessive noise and this should never happen. Obviously those on night reception should not be using their shift as an opportunity to party with guests. Of course, chat with guests for a few minutes but after that send them away saying you have work to do (and blame me/the manager for this!). If you want to talk/party to them more, make a date outside of work time please. Night shift specific. Turn off the lights in the garden and entrance at 11pm (Friday and Saturday at 12pm). KEEP THE NOISE DOWN AFTER 11pm (especially in the garden!). Close the garden at 12am/midnight. Close common areas at 3am until 6am. Take a look, if there is still laundry in dryer/washing machine (but don’t use it after 10pm!). Close and lock the door to Stephens mothers flat around 11pm. Switch off the light/TV in living room if nobody is inside. \n",
      "\n",
      "\n",
      "ROUTERS. We will now restart all three routers at 3:00am every night. To do this just unplug the router for a few seconds and then plug it back in. (there is a reminder in the calendar, that will pop-up at 3:00am.). There are two routers in the office, the hitron and sky router. There is also a hitron router in the 2nd floor sheets cupboard. Once this is done, quickly check that all networks are back up and running, using the office phone. Quickly connect and test each network. Finally email the assistant manager and Stephen confirming that you have done this and all the networks are working. Of course, if any are not working let us know too. \n",
      "\n",
      "\n",
      "CLEAN. Clean the kitchen, microwave and if there’s time also the fridge (also take food out and see if it is labelled, if not put it to ‘free food’). Take out the trash everywhere (for this see ‘Rubbish Management Policy’). Check the bathrooms, on ground, first and second floor, also see if there is enough toilet paper and close every window that is open. If there is enough time you can also clean the fridge at the reception and sort the milk (new milk should be in the back). Sweep the floor in kitchen, dining area, living room, entrance, reception. After sweeping, mop the floor with hot water (also in all the bathrooms). Garden: clean up the trash, empty ashtrays. Check the bathrooms at least every 2 hours to check that they have toilet paper and if there is water on the floor then mop it up. Clean out hot water urn and refill. At 6am start preparing breakfast. Calendar alert:. To create the reminder:. Go to Finder. Select Applications. \n",
      "\n",
      "\n",
      "Open 'Calendar'. Double click the date you wish to add an event to. Edit the event details and ensure that you select to set a reminder at the time of the event (you can also select for it to be recurring, ex trash collection each week). House rules and general policies. \n",
      "\n",
      "\n",
      "For staff:. -If you’d like to bring in a visitor, fill it up the staff guest list located in the reception, near to the fridge. -Guest should not hang out at the reception/office. If they would like to chat to you, inform them that you cannot do it while you are working and arrange a date outside of work. -Guests are not allowed behind the reception desk. If someone tries to enter, explain to them that it is strictly staff zone and that they must wait in front of the desk. -In the evening, the receptionist should close the curtains in the living room, as well as in the office but always keep the mirror on the left uncovered. This is so that we could always see outside and oversee who is entering. -The light in the corridor where the make-up position should always be on during the night for safety reasons. -When closing the garden at midnight, make sure to close the door from the kitchen but also the second one from the corridor. For guests:. \n",
      "\n",
      "\n",
      "-We do not accept visitors. -The lights in the garden are turned off at 11 pm and the garden is closed at 11 pm. After that, you cannot sit outside of the hostel. -After using the dishes, wash them and place them on the drying rack. -Do not leave the food on work surfaces in the kitchen but place it in the cupboards provided. -Always put a label with your name and your check-out date on your food to prevent it from placed in the free food section. -Do not disturb other guests, e.g. be quiet when entering the room during the night, do not play the music loudly etc. \n",
      "\n",
      "\n",
      "Kitchen cleaning. There are few things to keep in mind when cleaning the kitchen:. -cleaning the countertops with the antibacterial spray. -cleaning the outside of the cupboards with the antibacterial spray and organize the inside neatly. -cleaning the tiles on the walls as they can be stained with grease or dish soap. -cleaning the ovens and the microwave inside out. -cleaning the toaster, shaking it upside-down and getting rid of the breadcrumbs. -scrubbing the sinks and removing any food that has collected in the drain. -cleaning the fridge inside out and throwing away outdated food. -when scrubbing the floor, make sure to always use sugar soap, scrub the floor with the brush and then mop it. -the drying rack should be emptied regularly so the guests can wash their dishes and put it away. -the countertops should be kept as clean and dry as possible. -the windowsill should be kept organized and clean. \n",
      "\n",
      "\n",
      "Cleaning Log. Cleaning log is the main guide when it comes to keeping the hostel clean and organized. It is mostly used by the day and evening support receptionist, but also the main receptionist if there is no support or if they did something that the cleaning log contains. It can be found in Dropbox and should always be checked to see what was done and what needs to be done. Whenever someone does something, it should be marked in the cleaning log by writing in the initials. It is important that the receptionists keep the cleaning log up to date so that we always know what is the priority to be done. For example, if the day support did not manage to do something because they were busy preparing breakfast, it should be done by the evening support and not just ignored. The cleaning log is also required for Health and Safety standards. \n",
      "\n",
      "\n",
      "The hostel has enacted a £10 fine for anyone smoking on the front steps, with those who refuse to pay being subsequently banned. It is the responsibility of the receptionist to ensure that everyone follows the rule. Weekly rates are unavailable in summer months and cannot start on weekends, and must be accompanied by a signed agreement. Price depends on the type of room, and is subject to change. Invoices must be issued for any week-long stays. Make sure agreements are signed and payments are accounted for.\n",
      "\n",
      "\n",
      "Invoices for guests/groups. If a guest requests an invoice use the model saved on the desktop. Change the necessary information, ie guest name, dates, room type etc, and increase the invoice number by one. After completing and printing out, save over the previous model on the desktop. This ensures that the invoice numbers are right. Also save the invoice on Dropbox. There is a file in the Dropbox called Invoices in which we need to save all invoices that we've ever created for either groups or Individuals. Regularly search for these either in the Dropbox, on the PC or in sent emails and then save them in the Invoice Folder in the respective year subfolder. \n",
      "\n",
      "\n",
      "Invoicing from Booking.com is an essential component of daily operational tasks. Discerning the total owed is critical upon reception of the invoice, which can be located in the finance tab of the extranet. Afterward, our team carefully inspects the stated time frame and cross-verifies the given figures against any reservations within that aspect. Noticing any discrepancies, overcharges, or cancellations requires utilizing the Dispute feature, which simply requires ticking the unexplained box and detailing the revenue and motivation for the challenge. Upgrade occurs within 48 hours, confirming agreement or denial.\n",
      "\n",
      "\n",
      "Modifications. If the price goes up, always accept modification requests and update the booking sheet. If the price goes down then for…. Non-refundable bookings: Never accept modification requests. Refundable bookings: Accept requests made over 48 hours before check-in and reject all else. For bookings where the payment has already been made on a virtual card, a refund or extra charge through the respective platform is necessary. The Bookings sheet dates will also need to be updated. \n",
      "\n",
      "\n",
      "This Rubbish Management Policy explains where to find waste bags and how to dispose of them. Waste bags can usually be found in the second drawer of the office's black filing cabinet but additional packs are in the basement cupboard by the washing machine. When full, bags should be placed outside dorm windows in the black bins; if the bins are full, place the bags on top of them. Bags should never be placed on the floor to prevent foxes from breaking them. All bins should have lids and any water inside should be emptied into the drain at the bottom of the stairs. Each bag costs a lot, so they should be filled to the top and any plastic bottles or containers should be removed, crushed, and then put back in before the bag is tied shut.\n",
      "\n",
      "\n",
      "Black Bags. Black bags can be found in the draw underneath the cutlery draw, in the kitchen and they should only be used in the garden, in the bin in the TV room, or to line the brown bags. Black bags are to be placed outside Mary’s flat and should be carried up to the pavement 7am on Tuesdays and Fridays (a diary reminder should have been set up on the office calendar to remind you). Transparent Recycling Royal Borough of Kensington Bags. Staff should never be placing rubbish in these as they are only used by Mary. However, receptionist should carry these up to the pavement 7am on Tuesdays and Fridays (a diary reminder should have been set up on the office calendar to remind you). \n",
      "\n",
      "\n",
      "As the daily receptionist, it is your responsibility to inform guests about the free breakfast and dinner provided at the hostel. For dinner, a vegetarian option is available and staff and guests can sign up for dinner until 4pm, or they will miss out. Those who sign up but don't appear by 7:30 will be banned from joining for a week. This is according to food safety rules and to ensure that no food is wasted. During the meal two people are cooking and guests must sign themselves up personally. After dinner the cooks must clean the kitchen and keep the drying rack empty.\n",
      "\n",
      "\n",
      "The Issues List document consists of several sheets to help the staff stay organised. The General Issues sheet is for issues not related to maintenance, like missing keys and housekeeping issues. Maintenance Issues covers things like broken furniture and lightbulbs. The Reoccurring Jobs sheet has jobs that need to be done periodically with a number indicating when they should be done next. Social Events and Hostel World provide a way to advertise events by entering details on noticeboard tab and wait for approval on HW website. Lastly, when a guest wants to use PS5, they should give their ID and get it back when it is returned.\n",
      "\n",
      "\n",
      "Relationships with guests. You are all free to enter into romantic relationships with guests. However, this has in the past put unfair pressure on staff (e.g. to \"help out\" with extensions of bookings or other favourable treatment) and for this reason guest relationships need to be disclosed. Anyone who starts dating a guest please notify Stephen by his email (stephendalai@yahoo.co.uk). Thereafter that person should not deal with payments or bookings / extensions from that guest or his/her friends. \n",
      "\n",
      "\n",
      "Laundry and Dryers. Please note that any laundry that you do must be finished by 10pm as after that time its a disturbance to Mary. Also no shoes to be washed or dried in the machines as it damages the machines. Mary’s door to the garden is being left open at night by those doing their laundry in the evening. Please note that after 10pm this door should be kept locked shut for Mary’s security. There are three dryers at the hostel, but we should normally use only the one outside. The dryer on top of the washing machine and the one left of Mary’s from entrance should only be used on very, very, busy days as they waste much more energy than the one outside and they are also slower. Laundry. \n",
      "\n",
      "\n",
      "In order to best utilize the washing machine and dryer, laundry should be divided into two categories: bed linen and towels. Towels should be washed in hotter cycle and bed linen in regular cycle. Washing liquid should be filled up to the cap and fabric conditioner should be added in the blue section for the bed lining. For bed lining, the machine should run two cycles: 1) speed 14 with 800 RPM and 2) spin only with 1400 RPM. For tumble dryer, it should always be used in the garden and fluff should be removed before turning the dial to the arrow and pushing it down. This helps in even out the number of cycles making it time-efficient.\n",
      "\n",
      "\n",
      "Lost property in the hostel's communal area should be taken to the receptionist, who should hold it until the end of their shift. If it is of low value (e.g. clothing, towels, bags), it should be placed in the lost property box. High value items (e.g. electronics, wallet, jewellery) should be placed in the bottom draw of the main desk, with a statement in the end of shift email specifying where the item was found and where it was placed. If it is of no value, it should be thrown away. The lost property box should be emptied when full and the contents placed in the locker storage room. Garden cushions should be brought in an hour before rain is forecast, and stored in the boiler cupboard between the staff dorm and Room C. The key for this cupboard should be returned to the key board in reception, and the cupboard should be locked. There are also two plastic boxes with keys in the office drawer.\n",
      "\n",
      "\n",
      "(1) Master Keys. These are the original keys for the rooms and lockers and exist for one purpose only. To be taken to the shop to cut extra copies when required. They should never be used for other purposes e.g. never given to guests. When you take a key out of the Master Key box please sign for it (there is a sign in/out form in the box). The key then becomes your responsibility until you return it after it has been cut - and when the key is returned you sign it back into the box. THIS is very important as if we lose those keys we have NONE and need to change the locks - costly and takes time!. \n",
      "\n",
      "\n",
      "(2) Spare Keys. These are extra keys and can be used to replace lost keys. So if a key is missing/lost then before cutting a new key check to see if we already have the spare in the Spare Keys box. If we don't have a spare then you go into the Master Key box to get the key to take to the shop to copy. Keeping Stephen informed. Please forward Stephen any email that you think I would be interested in seeing e.g. invoices. complaints. job applications. \n",
      "\n",
      "\n",
      "In the event of a fire alarm, the steps to take include silencing the alarm using either the key or code 7877, finding the source of the alarm (heat detector or call point) and reset system by pressing reset system. If a fire is found, use the fire extinguisher to put it out or evacuate the building and dial 999. If the fire alarm continues to malfunction, silence the buzzer and alert the responsible individual, but do not reset the system.\n",
      "\n",
      "\n",
      "Electricity. If it happens that electricity dies, do not panic; there is a box in the office with all the switches. It is located next to the DVD shelf, above the recycling bin in the office. Every switch is titled according to the room which it controls. If one of them is down, put it back up and the electricity will be back. There is another box on the 2nd floor – staircase to go to the 3rd floor, on the side where Room A & B are – which controls all the sockets and lights of the upper floors. \n",
      "\n",
      "\n",
      "Housekeeping shift duties involve reporting to reception and being asked to help with any housekeeping matters. Priority is given to sorting out mess in dorm rooms and cleaning all the bathrooms thoroughly, followed by a 15 minute break. Private rooms should be cleaned first, prioritising those that have checked out that day, and new guests due to check in. The housekeeper should check every room in the hostel is clean, even if it’s empty. If there are private rooms, beddings should be taken downstairs to reception or if time allows, loaded into the washing machine in the basement. Reception should always be informed of progress. A room cleaning sheet should also be filled out correctly; two copies should be made - one for housekeepers, and one for reception.\n",
      "\n",
      "\n",
      "- Make the beds. - If You find some dishes or cups bring downstairs to the kitchen and wash. \n",
      "\n",
      "\n",
      "The cleaning duties listed in this document primarily involve cleaning rooms and common areas in a hotel or dormitory. Specific tasks include: emptying the trash, sweeping and mopping the floor, cleaning refrigerators and bathrooms, making beds and washing dishes or cups, cleaning windows and lockers, and vacuuming stairs and corridors. Additionally, help with laundry is required regularly. The document also outlines 30-minute and 15-minute breaks that should be taken, as well as specific instructions regarding which rooms do not warrant free towels.\n",
      "\n",
      "\n",
      "Reception Support: 8am-3pm. Greet guests and show them where all breakfast materials are. Offer to help them e.g. cook some eggs etc. Cover the breakfast, make sure that everything is tidy and that we didn’t run out of food. As soon as enough bed linen is available to do a wash then carry it down to the washing machine and start the wash cycle; make a note of the time and 45 minutes later pop down and move linen to dryer and start dryer. Put a new wash on etc. As time allows also pop down and fold and store linen. At 10am clean up and put away all of the breakfast material. \n",
      "\n",
      "\n",
      "Empty the trash. Clean the kitchen (ovens and fridge as well) and keep it always tidy. Clear fridge of old food or food without labels (bin old food). Keep coffee, tea and sugar topped up. Don’t let the dishes, cups… accumulate in the sink, washer or in the dryer. Hoover and mop all the common areas and make sure that everything it’s done and that it smells good. Sweep the back and front gardens and empty ashtrays. Sweep all 4 concrete basements (front and back of house). Mop the toilets and the showers on the ground floor and basement. Email Stephen and Guest Satisfaction Staff when we run low of breakfast or cleaning materials. Mop and clean the reception. Breaks should be taken as follows: 8am-8.15am then 12pm-12.30pm then 2pm-2.15pm. Cover reception from 1pm-1.30pm whilst they have break. Then go to shop to have lost keys cut, clean or help in reception until 3pm. Make sure hot water urn is full and tea /coffee/sugar is topped up. \n",
      "\n",
      "\n",
      "8am-9am :. Report to reception and ask if there is anything specific they need cleaning. Then, check there are enough breakfast materials for guests (milk, cereals, bowls, bread etc.). Quick clean of kitchen. Bring any linen down from reception and put on washing machine as soon as there’s enough linen for one load. Then head into garden and sweep whole garden and both basements in garden. Clean tables and empty ashtrays. Empty dustbins if required. Sweep basements areas to front of building and clean away any debris/rubbish from the fake grass. Also cut or pull out any weeds/plants growing out from the edge of the grass. 10am-12am : put away all breakfast materials and then deep clean kitchen. Clean all tables in lounges with disinfectant spray. Hoover all lounge areas then mop (put out cleaning in progress signs first). Check washing machine and dryers. Keep the washing and drying cycle going and fold and put away bed linen and towels. \n",
      "\n",
      "\n",
      "12pm-1pm : Break. 1pm-1.30pm : Cover for receptionist’s break. Note, that you should prioritize guests needing to help (check ins and outs) but otherwise still continue cleaning kitchen/lounge/gardens if required e.g guests often make a mess in kitchen all day!. 1-3pm: Cut keys and continue cleaning as required. Help receptionist with e.g. checking guests in, etc. Reception support: 3pm-10pm. Check the laundry at all times and fold the bedding. Help the main receptionist with check-ins and check empty beds. Fill up the fridge at the reception if water, coke or milk is missing. Before dinner. Look at the Cleaning Log and see what needs to be done;. Clean the garden and basement. \n",
      "\n",
      "\n",
      "Clean the dishwasher, microwave, toaster. Keep the kitchen clean, throw away any spoiled food from the fridges or the cupboards. Empty the dustbins and put in the new bags. Check and keep the blue paper topped up. Help the cooks by crossing the guests out of the dinner list. After dinner. Hoover and mop the dining area. Clean the tables with antibacterial spray. Clean the work surfaces with antibacterial spray. Move and wash any remaining plates or glasses that guests left after dinner. Keep the drying rack empty. If there is enough dishes, load and turn the dishwasher on. \n",
      "\n",
      "\n",
      "Breaks during shifts. Given the reception shift is so long it's better to spread out the one-hour break into three breaks as follows:. Day shift. 8.30am-10am: take one 15-minute break anytime. 1pm-1.30pm: lunch (this is a fixed time slot). 3-6pm: take a 15-minute break anytime during this 3-hour period. Night shift. 7.30pm-10pm: take one 15-minute break. 1.30am-2am:  this is a fixed time slot. 3am-6am: take a 15-minute break anytime during this 3-hour period. Before you leave for a break email Stephen saying you're taking a 15 or 30-minute break. Also email Stephen as soon as you return from your break email to say you've returned. \n",
      "\n"
     ]
    }
   ],
   "source": [
    "for i in range(len(final_paragraphs)):\n",
    "    print('')\n",
    "    print(final_paragraphs[i])\n",
    "    print('')"
   ]
  }
 ],
 "metadata": {
  "kernelspec": {
   "display_name": "Python 3 (ipykernel)",
   "language": "python",
   "name": "python3"
  },
  "language_info": {
   "codemirror_mode": {
    "name": "ipython",
    "version": 3
   },
   "file_extension": ".py",
   "mimetype": "text/x-python",
   "name": "python",
   "nbconvert_exporter": "python",
   "pygments_lexer": "ipython3",
   "version": "3.11.7"
  }
 },
 "nbformat": 4,
 "nbformat_minor": 5
}
